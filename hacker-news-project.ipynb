{
 "cells": [
  {
   "cell_type": "markdown",
   "metadata": {
    "collapsed": true
   },
   "source": [
    "# Hacker News Project\n",
    "\n",
    "In this project we will work on a data set of submissions to Hacker News website. We will specifically look into titles that begin with either Ask HN or Show HN. We will try to determine which type of posts receive the more comments on average and also if posts created at a certain time receive more comments on average. "
   ]
  },
  {
   "cell_type": "code",
   "execution_count": 9,
   "metadata": {
    "collapsed": false
   },
   "outputs": [
    {
     "name": "stdout",
     "output_type": "stream",
     "text": [
      "['id', 'title', 'url', 'num_points', 'num_comments', 'author', 'created_at']\n",
      "\n",
      "\n",
      "[['12224879', 'Interactive Dynamic Video', 'http://www.interactivedynamicvideo.com/', '386', '52', 'ne0phyte', '8/4/2016 11:52'], ['10975351', 'How to Use Open Source and Shut the Fuck Up at the Same Time', 'http://hueniverse.com/2016/01/26/how-to-use-open-source-and-shut-the-fuck-up-at-the-same-time/', '39', '10', 'josep2', '1/26/2016 19:30'], ['11964716', \"Florida DJs May Face Felony for April Fools' Water Joke\", 'http://www.thewire.com/entertainment/2013/04/florida-djs-april-fools-water-joke/63798/', '2', '1', 'vezycash', '6/23/2016 22:20'], ['11919867', 'Technology ventures: From Idea to Enterprise', 'https://www.amazon.com/Technology-Ventures-Enterprise-Thomas-Byers/dp/0073523429', '3', '1', 'hswarna', '6/17/2016 0:01']]\n"
     ]
    }
   ],
   "source": [
    "#first, let's open the dataset and display the header and first five rows without the header\n",
    "\n",
    "from csv import reader\n",
    "opened_file=open('hacker_news.csv')\n",
    "readed_file=reader(opened_file)\n",
    "hn=list(readed_file)\n",
    "headers=hn[0]\n",
    "hn=hn[1:]\n",
    "print(headers)\n",
    "print('\\n')\n",
    "print(hn[0:4])"
   ]
  },
  {
   "cell_type": "markdown",
   "metadata": {},
   "source": [
    "Now, we will start filtering our data. Hence, we will separate the posts beginning with Ask HN and Show HN into two different lists"
   ]
  },
  {
   "cell_type": "code",
   "execution_count": 24,
   "metadata": {
    "collapsed": false
   },
   "outputs": [
    {
     "name": "stdout",
     "output_type": "stream",
     "text": [
      "1744\n",
      "1162\n",
      "17194\n"
     ]
    }
   ],
   "source": [
    "ask_posts=[]\n",
    "show_posts=[]\n",
    "other_posts=[]\n",
    "\n",
    "for row in hn: \n",
    "    title=row[1]\n",
    "    if title.lower().startswith('ask hn'):\n",
    "        ask_posts.append(row)\n",
    "    elif title.lower().startswith('show hn'):\n",
    "        show_posts.append(row)\n",
    "    else:\n",
    "        other_posts.append(row)\n",
    "\n",
    "print(len(ask_posts))\n",
    "print(len(show_posts))\n",
    "print(len(other_posts))"
   ]
  },
  {
   "cell_type": "markdown",
   "metadata": {},
   "source": [
    "Next, let's determine if ask posts or show posts receive more comments on average. "
   ]
  },
  {
   "cell_type": "code",
   "execution_count": 26,
   "metadata": {
    "collapsed": false
   },
   "outputs": [
    {
     "name": "stdout",
     "output_type": "stream",
     "text": [
      "14.038417431192661\n",
      "10.31669535283993\n"
     ]
    }
   ],
   "source": [
    "total_ask_comments=0\n",
    "for row in ask_posts:\n",
    "    num_comments=int(row[4])\n",
    "    total_ask_comments+=num_comments\n",
    "    \n",
    "avg_ask_comments=total_ask_comments/len(ask_posts)\n",
    "print(avg_ask_comments)\n",
    "\n",
    "total_show_comments=0\n",
    "for row in show_posts:\n",
    "    num_comments=int(row[4])\n",
    "    total_show_comments+=num_comments\n",
    "    \n",
    "avg_show_comments=total_show_comments/len(show_posts)\n",
    "print(avg_show_comments)"
   ]
  },
  {
   "cell_type": "markdown",
   "metadata": {},
   "source": [
    "According to the result above, we can say that ask posts receive more comments on average than show posts (14,04 versus 10.32)"
   ]
  },
  {
   "cell_type": "code",
   "execution_count": 53,
   "metadata": {
    "collapsed": false
   },
   "outputs": [
    {
     "name": "stdout",
     "output_type": "stream",
     "text": [
      "{'04': 47, '17': 100, '13': 85, '14': 107, '06': 44, '16': 108, '22': 71, '10': 59, '00': 55, '23': 68, '11': 58, '08': 48, '21': 109, '18': 109, '01': 60, '03': 54, '09': 45, '19': 110, '02': 58, '12': 73, '07': 34, '15': 116, '20': 80, '05': 46}\n",
      "\n",
      "\n",
      "{'04': 337, '17': 1146, '13': 1253, '14': 1416, '06': 397, '16': 1814, '22': 479, '10': 793, '00': 447, '23': 543, '11': 641, '08': 492, '21': 1745, '18': 1439, '01': 683, '03': 421, '09': 251, '19': 1188, '02': 1381, '12': 687, '07': 267, '15': 4477, '20': 1722, '05': 464}\n"
     ]
    }
   ],
   "source": [
    "import datetime as dt\n",
    "result_list=[]\n",
    "counts_by_hour={}\n",
    "comments_by_hour={}\n",
    "\n",
    "for row in ask_posts:\n",
    "    created_at=row[6]\n",
    "    n_comments=int(row[4])\n",
    "    my_list=[created_at,n_comments]\n",
    "    result_list.append(my_list)\n",
    "\n",
    "for row in result_list:\n",
    "    hour=row[0]\n",
    "    hour=dt.datetime.strptime(hour,\"%m/%d/%Y %H:%M\")\n",
    "    hour=hour.strftime(\"%H\")\n",
    "    if hour in counts_by_hour:\n",
    "        counts_by_hour[hour]+=1\n",
    "        comments_by_hour[hour]+=row[1]\n",
    "    else:\n",
    "        counts_by_hour[hour]=1\n",
    "        comments_by_hour[hour]=row[1]\n",
    "\n",
    "print(counts_by_hour)\n",
    "print('\\n')\n",
    "print(comments_by_hour)\n",
    "    "
   ]
  },
  {
   "cell_type": "markdown",
   "metadata": {},
   "source": [
    "Here above we created two dictionaries which contain the number of asks posts created during each hour of the day and the corresponding number of comments created at each hour of the day.\n",
    "\n",
    "Now, let's use the two dictionaries to calculate the average number of comments for posts created during each hour of the day. "
   ]
  },
  {
   "cell_type": "code",
   "execution_count": 54,
   "metadata": {
    "collapsed": false
   },
   "outputs": [
    {
     "name": "stdout",
     "output_type": "stream",
     "text": [
      "[['04', 7.170212765957447], ['17', 11.46], ['13', 14.741176470588234], ['14', 13.233644859813085], ['06', 9.022727272727273], ['16', 16.796296296296298], ['22', 6.746478873239437], ['10', 13.440677966101696], ['00', 8.127272727272727], ['23', 7.985294117647059], ['11', 11.051724137931034], ['08', 10.25], ['21', 16.009174311926607], ['18', 13.20183486238532], ['01', 11.383333333333333], ['03', 7.796296296296297], ['09', 5.5777777777777775], ['19', 10.8], ['02', 23.810344827586206], ['12', 9.41095890410959], ['07', 7.852941176470588], ['15', 38.5948275862069], ['20', 21.525], ['05', 10.08695652173913]]\n"
     ]
    }
   ],
   "source": [
    "avg_by_hour=[]\n",
    "for hour in counts_by_hour:\n",
    "    avg_by_hour.append([hour,comments_by_hour[hour]/counts_by_hour[hour]])\n",
    "\n",
    "print(avg_by_hour)"
   ]
  },
  {
   "cell_type": "markdown",
   "metadata": {},
   "source": [
    "The result above is hard to read. Therefore, let's sort the list of list and print the five highest values in a more convenient format."
   ]
  },
  {
   "cell_type": "code",
   "execution_count": 60,
   "metadata": {
    "collapsed": false
   },
   "outputs": [
    {
     "name": "stdout",
     "output_type": "stream",
     "text": [
      "[[7.170212765957447, '04'], [11.46, '17'], [14.741176470588234, '13'], [13.233644859813085, '14'], [9.022727272727273, '06'], [16.796296296296298, '16'], [6.746478873239437, '22'], [13.440677966101696, '10'], [8.127272727272727, '00'], [7.985294117647059, '23'], [11.051724137931034, '11'], [10.25, '08'], [16.009174311926607, '21'], [13.20183486238532, '18'], [11.383333333333333, '01'], [7.796296296296297, '03'], [5.5777777777777775, '09'], [10.8, '19'], [23.810344827586206, '02'], [9.41095890410959, '12'], [7.852941176470588, '07'], [38.5948275862069, '15'], [21.525, '20'], [10.08695652173913, '05']]\n"
     ]
    }
   ],
   "source": [
    "swap_avg_by_hour=[]\n",
    "for row in avg_by_hour:\n",
    "    first_element=row[0]\n",
    "    second_element=row[1]\n",
    "    swap_avg_by_hour.append([second_element, first_element])\n",
    "\n",
    "print(swap_avg_by_hour)\n",
    "\n",
    "sorted_swap=sorted(swap_avg_by_hour, reverse=True)"
   ]
  },
  {
   "cell_type": "code",
   "execution_count": 63,
   "metadata": {
    "collapsed": false
   },
   "outputs": [
    {
     "name": "stdout",
     "output_type": "stream",
     "text": [
      "Top 5 Hours for Ask Posts Comments\n",
      "15:00: 38.59 average comments per post\n",
      "02:00: 23.81 average comments per post\n",
      "20:00: 21.52 average comments per post\n",
      "16:00: 16.80 average comments per post\n",
      "21:00: 16.01 average comments per post\n"
     ]
    }
   ],
   "source": [
    "print(\"Top 5 Hours for Ask Posts Comments\")\n",
    "\n",
    "for average,hour in sorted_swap[0:5]:\n",
    "    hour=dt.datetime.strptime(hour,\"%H\")\n",
    "    hour=hour.strftime(\"%H:%M\")\n",
    "    print(\"{0}: {1:.2f} average comments per post\".format(hour,average))"
   ]
  },
  {
   "cell_type": "markdown",
   "metadata": {},
   "source": [
    "In order to have higher chances to receive comments, one should create a post at: 3pm, 2am, 8pm, 4pm or 9pm."
   ]
  }
 ],
 "metadata": {
  "kernelspec": {
   "display_name": "Python 3",
   "language": "python",
   "name": "python3"
  },
  "language_info": {
   "codemirror_mode": {
    "name": "ipython",
    "version": 3
   },
   "file_extension": ".py",
   "mimetype": "text/x-python",
   "name": "python",
   "nbconvert_exporter": "python",
   "pygments_lexer": "ipython3",
   "version": "3.4.3"
  }
 },
 "nbformat": 4,
 "nbformat_minor": 2
}
